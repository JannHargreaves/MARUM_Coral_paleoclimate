{
 "cells": [
  {
   "cell_type": "markdown",
   "id": "556c54e4",
   "metadata": {},
   "source": [
    "## Coral Paleoclimate Practical #1 \n",
    "\n",
    "This worksheet will go through the basics of coral paleoclimate and basics of python. We will assume no knowledge of python however there are some basics that will help (these would be resources for fututre!); \n",
    "- 10 minutes into pandas - https://pandas.pydata.org/docs/user_guide/10min.html#min\n",
    "- what is xarray - https://tutorial.xarray.dev/overview/xarray-in-45-min.html\n",
    "- some great xarray examples - https://docs.xarray.dev/en/stable/gallery.html\n",
    "\n",
    "Some good paleoclimate specific pages; \n",
    "- Pyleoclim - https://pyleoclim-util.readthedocs.io/en/latest/\n",
    "\n",
    "Other free resources; \n",
    "- Earth Lab - https://www.earthdatascience.org/courses/use-data-open-source-python/\n",
    "- ARC Center for Excellence and climate extremes - https://climate-cms.org/index.html"
   ]
  },
  {
   "cell_type": "markdown",
   "id": "01fcc604",
   "metadata": {},
   "source": [
    "First things first we have to import anything that may be relevant to this tutorial, meaning the important packages\n",
    "\n",
    "Tips for this, to make sure that cells (each box here is called a cell) are run, you click on each and then either press 'Shift+enter' or the run button at the top."
   ]
  },
  {
   "cell_type": "code",
   "execution_count": 3,
   "id": "a4ccc89b",
   "metadata": {},
   "outputs": [],
   "source": [
    "import pyleoclim as pyleo\n",
    "import xarray as xr\n",
    "import pandas as pd\n",
    "import matplotlib as mpl\n",
    "import matplotlib.pyplot as plt\n",
    "import sys\n",
    "import numpy as np\n",
    "\n",
    "from netCDF4 import num2date\n",
    "import matplotlib.pyplot as plt\n",
    "\n",
    "%matplotlib inline\n",
    "import cartopy.crs as ccrs\n",
    "\n",
    "import cftime\n",
    "\n",
    "# this is all for plotting...\n",
    "\n",
    "# from cartopy.util import add_cyclic_point\n",
    "# from cartopy.mpl.geoaxes import GeoAxes\n",
    "# from cartopy.mpl.ticker import LongitudeFormatter, LatitudeFormatter\n",
    "# import matplotlib.pyplot as plt\n",
    "# from mpl_toolkits.axes_grid1 import AxesGrid\n",
    "# from matplotlib.colors import BoundaryNorm\n",
    "# import matplotlib.colors as colors\n",
    "# from matplotlib.colors import LinearSegmentedColormap\n",
    "# import cartopy.feature as cfeature\n",
    "# import matplotlib.mlab as mlab\n",
    "# from scipy.signal import find_peaks\n",
    "# import sys\n",
    "\n",
    "# import datetime\n",
    "# from datetime import date, datetime, timedelta   # to convert \"days since XXX\" to date\n",
    "# import xarray as xr\n",
    "# import datetime as dt2         # to create a datetime object\n",
    "\n",
    "# # from pandas.tseries.offsets import MonthBegin\n",
    "\n",
    "# from statsmodels.graphics.tsaplots import plot_pacf\n",
    "# from statsmodels.graphics.tsaplots import plot_acf\n",
    "# from scipy.stats import linregress\n",
    "# import statsmodels.api as sm\n",
    "# from statsmodels.sandbox.regression.predstd import wls_prediction_std\n",
    "# from pylr2 import regress2"
   ]
  },
  {
   "cell_type": "markdown",
   "id": "47789665",
   "metadata": {},
   "source": [
    "We can test this worked by making the sheet do something;"
   ]
  },
  {
   "cell_type": "code",
   "execution_count": 2,
   "id": "6cc5426e",
   "metadata": {},
   "outputs": [
    {
     "name": "stdout",
     "output_type": "stream",
     "text": [
      "Hello, welcome to this practical!\n",
      "The result of 2+2 is equal to:\n"
     ]
    },
    {
     "data": {
      "text/plain": [
       "4"
      ]
     },
     "execution_count": 2,
     "metadata": {},
     "output_type": "execute_result"
    }
   ],
   "source": [
    "print ('Hello, welcome to this practical!')\n",
    "\n",
    "# python works on a zero based system (i.e. the numbering starts from 0) and the system works fairly simply\n",
    "# if you want to test some basic maths for example \n",
    "\n",
    "print ('The result of 2+2 is equal to:')\n",
    "2+2 "
   ]
  },
  {
   "cell_type": "markdown",
   "id": "aef2aa20",
   "metadata": {},
   "source": [
    "#### Now we need to import the data that we want to work with. \n",
    "\n",
    "In this practical we will be using some previously published coral records, first from the tropical Pacific Island called Palmyra Island (Nurhati et al., 2011). This Palmyra Island coral lies on the edge of the NINO3.4 region, which is a popular measure of the state of El Niño Southern Oscillation. Additionally we will look at a coral record from the Mentawai Islands, in the South East Tropical Indian Ocean (Abram et al., 2020). This region lies within the eastern box of the Dipole Mode Index, which is the index of Indian Ocean Dipole variance.\n",
    "\n",
    "Both these papers can be found in the github folder!\n",
    "\n",
    "You will look at following and investigate what this means;\n",
    "- relationship between coral proxy evidence and sea surface temperature, \n",
    "- relationships between the coral proxies and large climate oscillations\n",
    "- correlations to gridded fields "
   ]
  },
  {
   "cell_type": "code",
   "execution_count": null,
   "id": "31f511f0",
   "metadata": {},
   "outputs": [],
   "source": []
  }
 ],
 "metadata": {
  "kernelspec": {
   "display_name": "Python 3 (ipykernel)",
   "language": "python",
   "name": "python3"
  },
  "language_info": {
   "codemirror_mode": {
    "name": "ipython",
    "version": 3
   },
   "file_extension": ".py",
   "mimetype": "text/x-python",
   "name": "python",
   "nbconvert_exporter": "python",
   "pygments_lexer": "ipython3",
   "version": "3.10.10"
  }
 },
 "nbformat": 4,
 "nbformat_minor": 5
}
