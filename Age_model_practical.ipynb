{
 "cells": [
  {
   "cell_type": "markdown",
   "id": "e0702a8e",
   "metadata": {},
   "source": [
    "# Coral Paleoclimate Practical #1 - Generating an age Model\n",
    "\n",
    "This worksheet will go through the basics of coral paleoclimate and uses basic python. We will assume no knowledge of python however there are some basics that will help (these would be resources for fututre!); \n",
    "\n",
    "- 10 minutes into pandas - https://pandas.pydata.org/docs/user_guide/10min.html#min\n",
    "- what is xarray - https://tutorial.xarray.dev/overview/xarray-in-45-min.html\n",
    "- some great xarray examples - https://docs.xarray.dev/en/stable/gallery.html\n",
    "\n",
    "Some good paleoclimate specific pages; \n",
    "- Pyleoclim - https://pyleoclim-util.readthedocs.io/en/latest/\n",
    "\n",
    "Other free resources; \n",
    "- Earth Lab - https://www.earthdatascience.org/courses/use-data-open-source-python/\n",
    "- ARC Center for Excellence and climate extremes - https://climate-cms.org/index.html\n",
    "\n",
    "### In this notebook we will generate an age model for a short coral. \n",
    "- This coral is from Mauritius and was collected in 1989. We have given you a short version of the core and we are going to use the raw Sr/Ca results (generated using an ICP-OES here in Bremen) and sea surface temperature from reanalysis datasets to generate an age model. "
   ]
  },
  {
   "cell_type": "markdown",
   "id": "9fa5b54e",
   "metadata": {},
   "source": [
    "### The very first thing that you have to do when using python is to import any package that you need to use. \n",
    "- python is basically a shell, you need to tell it what is needed"
   ]
  },
  {
   "cell_type": "code",
   "execution_count": null,
   "id": "1c046dc5",
   "metadata": {},
   "outputs": [],
   "source": [
    "import pyleoclim as pyleo #this is the paleoclimate python model -- May not use this \n",
    "import xarray as xr #xarray is the processing package that helps deal with large datasets (often gridded data)\n",
    "import pandas as pd #this is the main python package that deals with open source data analysis and manipulation\n",
    "\n",
    "\n",
    "import sys #this is a module that provides various functions and variables\n",
    "import numpy as np\n",
    "\n",
    "from netCDF4 import num2date\n",
    "import cftime #this is a time related pacakge\n",
    "\n",
    "# this is all for plotting...\n",
    "import matplotlib as mpl #mapping and plotting package\n",
    "import matplotlib.pyplot as plt\n",
    "%matplotlib inline\n",
    "\n",
    "import cartopy #this is another mapping package\n",
    "\n",
    "from scipy import interpolate\n",
    "\n",
    "import datetime\n",
    "from datetime import date, datetime, timedelta   # to convert \"days since XXX\" to date"
   ]
  },
  {
   "cell_type": "markdown",
   "id": "ce949487",
   "metadata": {},
   "source": [
    "### Now we import the excel sheet that contains the coral information. \n",
    "\n",
    "- it is in the same folder as this sheet, so we just need to call the name of it using a 'read_excel' command. This is part of one of the python packages called pandas. "
   ]
  },
  {
   "cell_type": "code",
   "execution_count": null,
   "id": "bda2a735",
   "metadata": {},
   "outputs": [],
   "source": [
    "# this reads the excel sheet, and puts it into a pandas dataframe.\n",
    "\n",
    "# we always have to call it something useful, the name of the coral is MAU2\n",
    "MAU2_SrCa = pd.read_excel('MAU2_shorted_for_prac.xlsx') \n",
    "MAU2_SrCa"
   ]
  },
  {
   "cell_type": "markdown",
   "id": "aeda08fe",
   "metadata": {},
   "source": [
    "### We can use this pandas dataframe, but the best way to deal with climate data is to convert it into a format called netcdf. \n",
    "\n",
    "- to use netcdf we can use a python package called xarray. This will also us to execute common stats if we want"
   ]
  },
  {
   "cell_type": "code",
   "execution_count": null,
   "id": "ce9ced2a",
   "metadata": {},
   "outputs": [],
   "source": [
    "# this generates that xarray dataset, with the Coral SrCa, and then creates a variable called depth\n",
    "MAU2_SrCa_xr = xr.Dataset({'SrCa':MAU2_SrCa.SrCa},\n",
    "                     attrs=dict(description=\"MAU1_SrCa_Corrected_SrCa\"),)\n",
    "\n",
    "MAU2_SrCa_xr['depth']=MAU2_SrCa.depth\n",
    "MAU2_SrCa_xr"
   ]
  },
  {
   "cell_type": "markdown",
   "id": "dc668933",
   "metadata": {},
   "source": [
    "### We generate age models based on the maximum (which is related to minimum temperature) value of Sr/Ca for each month. That means we need to find this value."
   ]
  },
  {
   "cell_type": "code",
   "execution_count": null,
   "id": "97c2e98c",
   "metadata": {},
   "outputs": [],
   "source": [
    "# We can used a function called 'find_peaks' which finds the largest value with some conditions.\n",
    "\n",
    "# We set the distance at at least 5 (because the data is bimonthly, 6 samples a year), and above a certain value\n",
    "peaks_low_temp, _ = find_peaks(MAU2_SrCa_xr.SrCa, distance=5, height=9.2)\n",
    "\n",
    "# We can do the same with the smallest peaks\n",
    "peaks_high_temp, _ = find_peaks(-MAU2_SrCa_xr.SrCa, distance=5)\n"
   ]
  },
  {
   "cell_type": "code",
   "execution_count": null,
   "id": "05faa186",
   "metadata": {},
   "outputs": [],
   "source": [
    "## Now lets plot this! \n",
    "\n",
    "fig = plt.figure(figsize=(40, 3)) #this sets up a figure\n",
    "\n",
    "\n",
    "ax = fig.add_subplot(1, 3, 1) # this sets up a subplot, which we dont use here but is good for future!\n",
    "\n",
    "ax.plot(MAU2_SrCa_xr.SrCa, **{ 'marker': 'o'}) #this plots the SrCa by the index. It also plots every point with a dot\n",
    "\n",
    "#this will plot each peak we found in the last cell, with information about the point. \n",
    "ax.plot(peaks_high, MAU2_SrCa_xr.SrCa[peaks_low_temp], \"x\", markersize = 14) \n",
    "ax.plot(peaks_low, MAU2_SrCa_xr.SrCa[peaks_high_temp], \"x\", markersize = 14)\n",
    "\n",
    "#we invert this so that warm is up on the graph\n",
    "plt.gca().invert_yaxis()\n",
    "\n",
    "#we are just inverting the x-axis because its more normal to look at these datasets with the youngest on the right\n",
    "plt.gca().invert_xaxis() \n",
    "\n",
    "ax.set_ylabel('Sr/Ca (mmol/mol)', color= 'black') # this sets the y-label\n",
    "ax.set_xlabel('Depth (cm)', color= 'black') #this sets the x-label\n",
    "ax.set_title('MAU2 Sr/Ca Raw Data') #this sets the title\n",
    "\n"
   ]
  },
  {
   "cell_type": "markdown",
   "id": "41a9634f",
   "metadata": {},
   "source": [
    "### For this location we just want to look at the low temperature (which are the maximum values) because there is less variability in the minimum temperature values at Mauritius\n",
    "\n",
    "- this is what we called peaks_low_temps in the last cell, so we can put this into its own dataframe"
   ]
  },
  {
   "cell_type": "code",
   "execution_count": null,
   "id": "52ad979a",
   "metadata": {},
   "outputs": [],
   "source": [
    "#this creates a dataframe that consists of the depth values \n",
    "#of the low_temperature peaks, We want to know the depth markers rather than the value of the points\n",
    "\n",
    "#the code 'MAU2_SrCa_xr.depth[peaks_low_temp]' uses the index we develop in the peaks_low_temp and finds that depth value of each in the xarray\n",
    "df = pd.DataFrame({'depth_markers':MAU2_SrCa_xr.depth[peaks_low_temp]})\n",
    "\n",
    "#this just adds a 0 index point for the top value of the coral\n",
    "df.loc[-1] = [0]\n",
    "\n",
    "df.index = df.index + 1  # shifting index down one to shift it down\n",
    "df.sort_index(inplace=True) #and then sorting the index so it runs from 0 to 22\n",
    "\n",
    "df #and we can just print it out"
   ]
  },
  {
   "cell_type": "markdown",
   "id": "da24b66b",
   "metadata": {},
   "source": [
    "#### Now we need to import the SST dataset\n",
    "\n",
    "- The dataset is called ERSST_MAU2de and contains SST values for Mauritius for the same length as the coral piece"
   ]
  },
  {
   "cell_type": "code",
   "execution_count": null,
   "id": "adf96b65",
   "metadata": {},
   "outputs": [],
   "source": [
    "ERSST_short = xr.open_dataset('ERSST_MAU2de.nc') # this is how we open a netcdf4 file into an xarray dataset \n",
    "\n",
    "ERSST_short #and now we can just print it out here"
   ]
  },
  {
   "cell_type": "code",
   "execution_count": null,
   "id": "a98b7fd1",
   "metadata": {
    "scrolled": true
   },
   "outputs": [],
   "source": [
    "## Now lets plot this! \n",
    "fig = plt.figure(figsize=(40, 3))#this sets up a figure\n",
    "\n",
    "ax = fig.add_subplot(1, 3, 1)# this sets up a subplot, which we dont use here but is good for future!\n",
    "\n",
    "ax.plot(ERSST_short.time,ERSST_short.sst, **{ 'marker': 'o'},markersize = 4)#this plots the SST by the time. It also plots every point with a dot\n",
    "\n",
    "#we are just inverting the x-axis because its more normal to look at these datasets with the youngest on the right\n",
    "plt.gca().invert_xaxis()\n",
    "\n",
    "ax.set_ylabel('SST (°C)', color= 'black') # this sets the y-label\n",
    "ax.set_xlabel('Age (Year)', color= 'black') #this sets the x-label\n",
    "ax.set_title('ERSSTv5 Mauritius') #this sets the title\n",
    "ax.set_xlim([1967,1990])\n",
    "\n"
   ]
  },
  {
   "cell_type": "markdown",
   "id": "09898778",
   "metadata": {},
   "source": [
    "We want to do the same thing to the SST that we did to the coral dataset!\n",
    "\n",
    "- find the peaks and align the datasets"
   ]
  },
  {
   "cell_type": "code",
   "execution_count": null,
   "id": "0a9428b3",
   "metadata": {},
   "outputs": [],
   "source": [
    "# We can used a function called 'find_peaks' which finds the largest value with some conditions.\n",
    "\n",
    "# We set the distance at at least 4 (because the data is bimonthly, 6 samples a year), and above a certain value\n",
    "peaks_highERSST_short, _ = find_peaks(ERSST_short.sst, distance=5)\n",
    "peaks_lowERSST_short, _ = find_peaks(-ERSST_short.sst, distance=5)"
   ]
  },
  {
   "cell_type": "code",
   "execution_count": null,
   "id": "3504e5c7",
   "metadata": {},
   "outputs": [],
   "source": [
    "## Now lets plot this! \n",
    "fig = plt.figure(figsize=(40, 3))#this sets up a figure\n",
    "\n",
    "ax = fig.add_subplot(1, 3, 1)# this sets up a subplot, which we dont use here but is good for future!\n",
    "\n",
    "ax.plot(ERSST_short.sst, **{ 'marker': 'o'},markersize = 4)#this plots the SST by the time. It also plots every point with a dot\n",
    "\n",
    "ax.plot(peaks_highERSST_short, ERSST_short.sst[peaks_highERSST_short], \"x\", markersize = 14)\n",
    "ax.plot(peaks_lowERSST_short, ERSST_short.sst[peaks_lowERSST_short], \"x\", markersize = 14)\n",
    "\n",
    "#we are just inverting the x-axis because its more normal to look at these datasets with the youngest on the right\n",
    "plt.gca().invert_xaxis()\n",
    "\n",
    "ax.set_ylabel('SST (°C)', color= 'black') # this sets the y-label\n",
    "ax.set_xlabel('Age (Year)', color= 'black') #this sets the x-label\n",
    "ax.set_title('ERSSTv5 Mauritius') #this sets the title\n",
    "# ax.set_xlim([1967,1990])\n",
    "\n"
   ]
  },
  {
   "cell_type": "markdown",
   "id": "a9d1659b",
   "metadata": {},
   "source": [
    "#### Now we have this we dataset we can put it into a dataframe called Date_markers"
   ]
  },
  {
   "cell_type": "code",
   "execution_count": null,
   "id": "65fc15e3",
   "metadata": {},
   "outputs": [],
   "source": [
    "Date_markers = ERSST_short.sst[peaks_lowERSST_short] # this is similar to what we did before\n",
    "\n",
    "# the next bit will just invert the date so that it is the same as the coral\n",
    "Date_markers = Date_markers.reindex(time=list(reversed(Date_markers.time)))\n",
    "Date_markers"
   ]
  },
  {
   "cell_type": "code",
   "execution_count": null,
   "id": "00052ae9",
   "metadata": {},
   "outputs": [],
   "source": [
    "#finally we can put both of these in the same pandas dataframe\n",
    "df['date_markers'] = Date_markers.time\n",
    "df"
   ]
  },
  {
   "cell_type": "markdown",
   "id": "24477aa8",
   "metadata": {},
   "source": [
    "### Now that we have these depth and date markers we can interpolate our dataset along a date.\n",
    "\n",
    "- first thing is we have to create a date xarray, which is monthly spaced (in this case bi-monthly) and then we can linearlly interpolate along this. \n",
    "\n",
    "- We know the top date of the coral, as we know when the alive coral was collected. This is August of 1989, we also know how many years there were (22 years) because of the banding.\n",
    "\n",
    "- So if this coral is bimonthly resolution, and 22 years there has to be at least 132 bimonthly samples. The coral isn't exactly 22 years so we make the age data array slightly longer."
   ]
  },
  {
   "cell_type": "code",
   "execution_count": null,
   "id": "6d2384d1",
   "metadata": {
    "scrolled": true
   },
   "outputs": [],
   "source": [
    "#creating the depth age vs age, this is a linear data array between the two values\n",
    "Datenew_Mau2 = np.linspace(1968-9/12, 1990-3/12, 136) \n",
    "\n",
    "Datenew_Mau2"
   ]
  },
  {
   "cell_type": "markdown",
   "id": "def8fdfc",
   "metadata": {},
   "source": [
    "We can use a function from scipy called interpolate which will linearly interpolate a date to the depth of each coral sample, meaning we will have a date value for every depth. \n",
    "\n",
    "- For this we use the depth markers, the date markers and finally the dpeth of the coral from the original xarray dataset"
   ]
  },
  {
   "cell_type": "code",
   "execution_count": null,
   "id": "4722b960",
   "metadata": {},
   "outputs": [],
   "source": [
    "#interpolates the age to the linear portion of the data, this creates a date for each data point. \n",
    "f = interpolate.interp1d(df.depth_markers,df.date_markers,fill_value=\"extrapolate\")(MAU2_SrCa.depth) "
   ]
  },
  {
   "cell_type": "markdown",
   "id": "0db9ad27",
   "metadata": {},
   "source": [
    "Now we can use this f dataset, where there is a date for each sample to interpolate into a monthly dataset, to create the monthly dataset. "
   ]
  },
  {
   "cell_type": "code",
   "execution_count": null,
   "id": "ca6818bd",
   "metadata": {
    "scrolled": true
   },
   "outputs": [],
   "source": [
    "# interpolating the raw values of SrCa into the monthly dates\n",
    "monthlySr_MAU2 = interpolate.interp1d(f,MAU2_SrCa.SrCa)(Datenew_Mau2) \n",
    "\n",
    "monthlySr_MAU2"
   ]
  },
  {
   "cell_type": "code",
   "execution_count": null,
   "id": "d985fdfc",
   "metadata": {},
   "outputs": [],
   "source": [
    "# Now we can just put this into a Dataset!\n",
    "MAU2_SrCa_monthly = xr.Dataset({'SrCa':(['time'],monthlySr_MAU2)},\n",
    "                     attrs=dict(description=\"MAU1_monthly_interpolated_SrCa\"),)\n",
    "\n",
    "MAU2_SrCa_monthly['time']=Datenew_Mau2\n",
    "MAU2_SrCa_monthly"
   ]
  },
  {
   "cell_type": "code",
   "execution_count": null,
   "id": "22fc4f81",
   "metadata": {},
   "outputs": [],
   "source": [
    "# And finally we can plot this! \n",
    "fig = plt.figure(figsize=(70, 3)) #this sets up a figure\n",
    "\n",
    "ax = fig.add_subplot(1, 3, 1) # this sets up a subplot, which we dont use here but is good for future!\n",
    "\n",
    "#this plots the Sr/Ca by the new monthly age model. It also plots every point with a dot\n",
    "ax.plot(MAU2_SrCa_monthly.time,MAU2_SrCa_monthly.SrCa,'-', **{ 'marker': 'o'})\n",
    "\n",
    "#we are just inverting the x-axis because its more normal to look at these datasets with the youngest on the right\n",
    "plt.gca().invert_yaxis()\n",
    "ax.set_xlim([1967,1990])\n",
    "\n",
    "ax.set_ylabel('Sr/Ca (mmol/mol)', color= 'black') # this sets the y-label\n",
    "ax.set_xlabel('Year', color= 'black') #this sets the x-label\n",
    "ax.set_title('MAU2 Sr/Ca Bi-monthly Interpolated') #this sets the title\n"
   ]
  },
  {
   "cell_type": "code",
   "execution_count": null,
   "id": "fe2d12b0",
   "metadata": {},
   "outputs": [],
   "source": [
    "\n"
   ]
  }
 ],
 "metadata": {
  "kernelspec": {
   "display_name": "Python 3 (ipykernel)",
   "language": "python",
   "name": "python3"
  },
  "language_info": {
   "codemirror_mode": {
    "name": "ipython",
    "version": 3
   },
   "file_extension": ".py",
   "mimetype": "text/x-python",
   "name": "python",
   "nbconvert_exporter": "python",
   "pygments_lexer": "ipython3",
   "version": "3.10.10"
  }
 },
 "nbformat": 4,
 "nbformat_minor": 5
}
