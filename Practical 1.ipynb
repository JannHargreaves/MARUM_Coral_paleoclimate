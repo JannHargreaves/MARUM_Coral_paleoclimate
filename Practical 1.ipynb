{
 "cells": [
  {
   "cell_type": "markdown",
   "id": "556c54e4",
   "metadata": {},
   "source": [
    "## Coral Paleoclimate Practical #1 \n",
    "\n",
    "This worksheet will go through the basics of coral paleoclimate and basics of python. We will assume no knowledge of python however there are some basics that will help (these would be resources for fututre!); \n",
    "- 10 minutes into pandas - https://pandas.pydata.org/docs/user_guide/10min.html#min\n",
    "- what is xarray - https://tutorial.xarray.dev/overview/xarray-in-45-min.html\n",
    "- some great xarray examples - https://docs.xarray.dev/en/stable/gallery.html\n",
    "\n",
    "Some good paleoclimate specific pages; \n",
    "- Pyleoclim - https://pyleoclim-util.readthedocs.io/en/latest/\n",
    "\n",
    "Other free resources; \n",
    "- Earth Lab - https://www.earthdatascience.org/courses/use-data-open-source-python/\n",
    "- ARC Center for Excellence and climate extremes - https://climate-cms.org/index.html"
   ]
  },
  {
   "cell_type": "markdown",
   "id": "01fcc604",
   "metadata": {},
   "source": [
    "First things first we have to import anything that may be relevant to this tutorial, meaning the important packages\n",
    "\n",
    "Tips for this, to make sure that cells (each box here is called a cell) are run, you click on each and then either press 'Shift+enter' or the run button at the top."
   ]
  },
  {
   "cell_type": "code",
   "execution_count": null,
   "id": "a4ccc89b",
   "metadata": {},
   "outputs": [],
   "source": [
    "import pyleoclim as pyleo #this is the paleoclimate python model -- May not use this \n",
    "import xarray as xr #xarray is the processing package that helps deal with large datasets (often gridded data)\n",
    "import pandas as pd #this is the main python package that deals with open source data analysis and manipulation\n",
    "\n",
    "\n",
    "import sys #this is a module that provides various functions and variables\n",
    "import numpy as np\n",
    "from netCDF4 import num2date\n",
    "from statsmodels.tsa.seasonal import seasonal_decompose\n",
    "\n",
    "import cftime #this is a time related pacakge\n",
    "\n",
    "# this is all for plotting...\n",
    "import matplotlib as mpl #mapping and plotting package\n",
    "import matplotlib.pyplot as plt\n",
    "%matplotlib inline\n",
    "\n",
    "import cartopy #this is another mapping package\n",
    "import datetime\n",
    "from datetime import date, datetime, timedelta   # to convert \"days since XXX\" to date\n",
    "\n",
    "#this is all for the stats \n",
    "\n",
    "from scipy.signal import find_peaks\n",
    "from statsmodels.graphics.tsaplots import plot_pacf\n",
    "from statsmodels.graphics.tsaplots import plot_acf\n",
    "from scipy.stats import linregress\n",
    "import statsmodels.api as sm\n",
    "\n",
    "from pylr2 import regress2 "
   ]
  },
  {
   "cell_type": "markdown",
   "id": "47789665",
   "metadata": {},
   "source": [
    "We can test this worked by making the notebook do something;"
   ]
  },
  {
   "cell_type": "code",
   "execution_count": null,
   "id": "6cc5426e",
   "metadata": {},
   "outputs": [],
   "source": [
    "print ('Hello, welcome to this practical!')\n",
    "\n",
    "# python works on a zero based system (i.e. the numbering starts from 0) and the system works fairly simply\n",
    "# if you want to test some basic maths for example \n",
    "\n",
    "print ('The result of 2+2 is equal to:')\n",
    "\n",
    "2+2 "
   ]
  },
  {
   "cell_type": "markdown",
   "id": "aef2aa20",
   "metadata": {},
   "source": [
    "#### Now we need to import the data that we want to work with. \n",
    "\n",
    "In this practical we will be using some previously published coral records, first from the tropical Pacific Island called Palmyra Island (Nurhati et al., 2011). This Palmyra Island coral lies on the edge of the NINO3.4 region, which is a popular measure of the state of El Niño Southern Oscillation. Additionally we will look at a coral record from the Mentawai Islands, in the South East Tropical Indian Ocean (Abram et al., 2020). This region lies within the eastern box of the Dipole Mode Index, which is the index of Indian Ocean Dipole variance.\n",
    "\n",
    "Both these papers can be found in the github folder!\n",
    "\n",
    "You will look at following and investigate what this means;\n",
    "- relationship between coral proxy evidence and sea surface temperature, \n",
    "- relationships between the coral proxies and large climate oscillations\n",
    "- correlations to gridded fields "
   ]
  },
  {
   "cell_type": "markdown",
   "id": "de25810e",
   "metadata": {},
   "source": [
    "## 1. How well do corals in the tropical Pacific reconstruct Sea surface temperature?\n",
    "\n"
   ]
  },
  {
   "cell_type": "markdown",
   "id": "1aebf369",
   "metadata": {},
   "source": [
    "The data is in the same folder we are working in so we can just download it straight into this box using a excel read comment.\n"
   ]
  },
  {
   "cell_type": "code",
   "execution_count": null,
   "id": "31f511f0",
   "metadata": {},
   "outputs": [],
   "source": [
    "#we want to upload the coral data here and name it something meaningful\n",
    "# this function 'pd.read_excel' will read the document and put it into a pandas array\n",
    "NU11_palmyra = pd.read_excel('palmyra2011.xlsx') \n",
    "\n",
    "# we can print this out by just typying our meaningful name again\n",
    "\n",
    "NU11_palmyra"
   ]
  },
  {
   "cell_type": "markdown",
   "id": "865eaafc",
   "metadata": {},
   "source": [
    "One thing to notice here is that the date format is in a decimal (i.e. 1886.13 is equivalent to the middle of February in 1886). In order to more easily manipulate the dates we would like to use something called Datetime. This will allow us to compare the data easily and average the data to annual values etc. \n",
    "\n",
    "- see more about datetime here - https://docs.python.org/3/library/datetime.html"
   ]
  },
  {
   "cell_type": "code",
   "execution_count": null,
   "id": "f934a08c",
   "metadata": {},
   "outputs": [],
   "source": [
    "# We can create a date_range using the function pd.date_range (https://pandas.pydata.org/docs/reference/api/pandas.date_range.html)\n",
    "# which will range from the starting date (1886.13) middle of Feb, for the entire length of the pandas array.\n",
    "Datetime=(pd.date_range(start='1/2/1886', periods=1347, freq='MS'))+ pd.offsets.Day(14) \n",
    "\n",
    "# here MS means the month start, and we offset it by 14 days to make it the middle of the month\n",
    "Datetime # again we can print it out to see what we have done. "
   ]
  },
  {
   "cell_type": "code",
   "execution_count": null,
   "id": "7f49c227",
   "metadata": {},
   "outputs": [],
   "source": [
    "# We can then add this into the pandas array so we have it all in the same place\n",
    "NU11_palmyra['Datetime'] = Datetime #this just adds another column to the data\n",
    "NU11_palmyra"
   ]
  },
  {
   "cell_type": "markdown",
   "id": "f67766bc",
   "metadata": {},
   "source": [
    "So far we have been working with a very useful python package called pandas. The above table is called a pandas DataFrame. However when we are working with climate data it is easier to work with a package called an xarray (we will also use some pyleoseries data later). Xarray allows us to compare to gridded data much easier, and manipulate the data effectively. \n",
    "\n",
    "\n",
    "We need to convert this Pandas series into a xarray Dataset. "
   ]
  },
  {
   "cell_type": "code",
   "execution_count": null,
   "id": "ad89968a",
   "metadata": {},
   "outputs": [],
   "source": [
    "# this code creates an xarrary Dataset, with the Palmyra SrCa data sorted by the datetime index we have made \n",
    "# It also includes the time information from the original dataset in the above DataFrame\n",
    "\n",
    "NU11_palmyra_xr = xr.Dataset({'SrCa':(['Datetime'],NU11_palmyra.SrCa)},\n",
    "                     attrs=dict(description=\"Palmyra 2011 Nurhati coral, at Palmyra: 5°53'N, 162°5'W, 9m depth\"),\n",
    "                   coords={'Decimal_Date':NU11_palmyra.Decimal_Date, 'Datetime':NU11_palmyra.Datetime})\n",
    "# we can also add in information about the location and the coral\n",
    "NU11_palmyra_xr #this will let us print this information"
   ]
  },
  {
   "cell_type": "markdown",
   "id": "e7d8a68c",
   "metadata": {},
   "source": [
    "### We can plot up the Sr/Ca data really easily! This way we can see what we are working with. "
   ]
  },
  {
   "cell_type": "code",
   "execution_count": null,
   "id": "41bf2345",
   "metadata": {},
   "outputs": [],
   "source": [
    "fig = plt.figure(figsize=(40, 3)) # this creates a figure of the size that we want to look at\n",
    "\n",
    "ax = fig.add_subplot(1, 2, 1) #this adds subplots (which we wont really use, but good for the future!)\n",
    "\n",
    "ax.plot(NU11_palmyra_xr.Datetime, NU11_palmyra_xr.SrCa, color = '#ED7014') # this plots the date on the x-axis and\n",
    "# Sr/Ca on the y - axis\n",
    "\n",
    "plt.gca().invert_yaxis() #this just inverts the y-axis, because we know that Sr/Ca is inversely related to SST and this makes more sense\n",
    "\n",
    "ax.set_ylabel('Sr/Ca (mmol/mol)', color= 'black') #set a y-label\n",
    "ax.set_xlabel('Age (Year)', color= 'black') #set a x-label\n",
    "ax.set_title('NU11 Sr/Ca') #set a title\n",
    "\n",
    "plt.show"
   ]
  },
  {
   "cell_type": "markdown",
   "id": "d328a676",
   "metadata": {},
   "source": [
    "### Now we want to upload the SST data in order to compare SST at the location with the Sr/Ca values.\n",
    "\n",
    "There are a number of different SST products we could use, however, we will use this one as the original paper says that the in-situ SST in the region best corresponds to the Reynolds SST dataset which is an older version of OISST.\n",
    "\n",
    "I have already segmented the SST for you, and selected it from the OISST dataset (Huang et al., 2021), this SST dataset is for the box surrounding where the coral is located. \n",
    "\n",
    "- you can read about OISST here - https://www.ncei.noaa.gov/products/optimum-interpolation-sst\n"
   ]
  },
  {
   "cell_type": "code",
   "execution_count": null,
   "id": "edbe7a5f",
   "metadata": {},
   "outputs": [],
   "source": [
    "OISST_palmyra = xr.open_dataset('NU11_palmyra_OISST.nc') # this is how we open a netcdf4 file into an xarray dataset \n",
    "\n",
    "OISST_palmyra #again we can just print it here to see what the OISST data looks like\n",
    "\n"
   ]
  },
  {
   "cell_type": "code",
   "execution_count": null,
   "id": "7abc6161",
   "metadata": {},
   "outputs": [],
   "source": [
    "# we can also plot this to see what it looks like \n",
    "fig = plt.figure(figsize=(15, 3)) # this creates a figure of the size that we want to look at\n",
    "\n",
    "ax = fig.add_subplot(1, 2, 1)\n",
    "\n",
    "ax.plot(OISST_palmyra.time, OISST_palmyra.sst) # this plots the date on the x-axis and SST on the y-axis\n",
    "\n",
    "ax.set_ylabel('SST (°C)', color= 'black') #set the y label\n",
    "ax.set_xlabel('Age (Year)', color= 'black') #set the x label\n",
    "ax.set_title('OISST Palmyra') # set the title\n",
    "\n",
    "plt.show"
   ]
  },
  {
   "cell_type": "markdown",
   "id": "7a822f6e",
   "metadata": {},
   "source": [
    "## Testing the relationship using correlations\n",
    "\n",
    "Okay now that we have the coral data and the sst in this notebook we want to look at how well the two datasets relate to each other. We can do this by testing the correlation between the two datasets. \n",
    "\n",
    "We will look at Sr/Ca of the coral, related to SST. There are a number of ways to do this, and a number of things to think about (like autocorrelation and lag of the dataset) but we are going to ignore that for the moment. You can read more about that elsewhere. \n",
    "\n",
    "To look at the two datasets we need them to be the same length. At the moment the coral spans from 1882-1998 and the SST only covers the instrumental period of the coral (1981-1998). \n",
    "\n",
    "- So we have to shorten the coral.\n"
   ]
  },
  {
   "cell_type": "code",
   "execution_count": null,
   "id": "c46f8198",
   "metadata": {},
   "outputs": [],
   "source": [
    "startyr = 1981 # Starting this on the same time frame at OISST. OISST starts at the 1/9/1981\n",
    "endyr = 1998  # the end of the coral period. I have already shorted the SST for you\n",
    "\n",
    "t1 = datetime(startyr, 9, 1)     #we can set the month and date here\n",
    "t2 = datetime(endyr, 5, 1)       #we can set the month and date here\n",
    "\n",
    "# and a function in the xarray package allows us to slice. This is the .sel function, allowing slices along a coordinate\n",
    "NU11_palmyra_short = NU11_palmyra_xr.sel(Datetime=slice(t1, t2)) \n",
    "\n",
    "NU11_palmyra_short #print this out"
   ]
  },
  {
   "cell_type": "code",
   "execution_count": null,
   "id": "c401095f",
   "metadata": {},
   "outputs": [],
   "source": [
    "# we can also plot this to see what the shortened coral looks like \n",
    "\n",
    "fig = plt.figure(figsize=(15, 3)) # this creates a figure of the size that we want to look at\n",
    "\n",
    "ax = fig.add_subplot(1, 2, 1)\n",
    "\n",
    "ax.plot(NU11_palmyra_short.Datetime, NU11_palmyra_short.SrCa, color = '#ED7014') # this plots the date on the x-axis and\n",
    "# Sr/Ca on the y - axis\n",
    "plt.gca().invert_yaxis()\n",
    "\n",
    "ax.set_ylabel('Sr/Ca (mmol/mol)', color= 'black') \n",
    "ax.set_xlabel('Age (Year)', color= 'black')\n",
    "ax.set_title('NU11 short Sr/Ca')\n",
    "plt.show"
   ]
  },
  {
   "cell_type": "code",
   "execution_count": null,
   "id": "9f5e7cee",
   "metadata": {},
   "outputs": [],
   "source": [
    "# we can just print the length of both to check they are the same, \n",
    "# and you can check that the two start at the same time youself\n",
    "print ('the length of the short coral is - '+ str(len(NU11_palmyra_short.Datetime)))\n",
    "print ('the length of the SST is - '+ str(len(OISST_palmyra.time)))"
   ]
  },
  {
   "cell_type": "markdown",
   "id": "27f01e3c",
   "metadata": {},
   "source": [
    "To test the correlations we do need to use a correlation function. The best way to do this is actually to transfer the data into a different datatype called a pyleo series. You can check out more informatino about it here if you want (https://pyleoclim-util.readthedocs.io/en/latest/index.html). \n",
    "\n",
    "The reason we use this is that they have a really nice function which allows us to account for the autocorrealtion of datasets (this is often the case in monthly climate data), by calculating the correlation and p-value through an n-effective number. We can talk about this more, but won't have time to go into it here! "
   ]
  },
  {
   "cell_type": "code",
   "execution_count": null,
   "id": "c346e111",
   "metadata": {},
   "outputs": [],
   "source": [
    "# The next two lines transfer the xarray datasets into the pyleo series. It takes the time, and the values into a series\n",
    "NU11_palmyra_shortpy = pyleo.Series(time=NU11_palmyra_short['Datetime'],value=NU11_palmyra_short['SrCa'],time_name='Years CE',value_name='d18O')\n",
    "OISST_py = pyleo.Series(time=OISST_palmyra['time'],value=OISST_palmyra['sst'],time_name='Years CE',value_name='SST', clean_ts=False)\n",
    "\n",
    "# now we calculate the correlation. By using the pyleo series called NU11_palmyra_shortpy and calling the function\n",
    "# corraltion. We correlatte this with OISST_py using a ttest method. This method takes into account the autocorrelation.\n",
    "SST_corr = NU11_palmyra_shortpy.correlation(OISST_py, settings={'method':'ttest'})\n",
    "\n",
    "print ('---------------------------------------------')\n",
    "print ('The corre between the Palmyra coral Sr/Ca and OISST')\n",
    "print (str(SST_corr)) # this prints the correlations, pvalue and significance. They print this whole thing because it \n",
    "                      # is built into the correlation function\n"
   ]
  },
  {
   "cell_type": "markdown",
   "id": "2401dee4",
   "metadata": {},
   "source": [
    "# Q1. What does this correlation mean?\n",
    "\n",
    "- is this strong? \n",
    "- is this inverse or not?"
   ]
  },
  {
   "cell_type": "markdown",
   "id": "b10ce6a5",
   "metadata": {},
   "source": [
    "-- You can write any notes here!"
   ]
  },
  {
   "cell_type": "markdown",
   "id": "589558d1",
   "metadata": {},
   "source": [
    "## We can also calibrate the coral with SST \n",
    "\n",
    "When we calibrate the coral, we have to deteremine the slope value of the regression between SST and Sr/Ca. This would allow us to compare to other coral records. \n",
    "\n",
    "There are a number of different regression methods. The most common method is the ordinary least squares method, however there are other methods which review papers suggest should be used, such as reduced major axis or weighted least square methods (WLS). WLS is the most recommended method however we dont have errors today so we won't be using this method.  \n",
    "\n",
    "Today we will be using the reduced major axis method, reduced major axis (RMA) regression is specifically formulated to handle errors in both the x and y variables - read more here. https://wires.onlinelibrary.wiley.com/doi/full/10.1002/wcc.745"
   ]
  },
  {
   "cell_type": "markdown",
   "id": "039c69e5",
   "metadata": {},
   "source": [
    "#### We will use a package called regress2 which has a reduced major axis method. We can regress the SST and the coral Sr/Ca against each other and then plot the data in a scatter plot"
   ]
  },
  {
   "cell_type": "code",
   "execution_count": null,
   "id": "e0fed3f6",
   "metadata": {},
   "outputs": [],
   "source": [
    "# this calls the regres2 method, using the OISST and Sr/Ca data with method RMA\n",
    "# this method results in a slope, the standard deviation of the slope, the intercept and the standard deviation of this\n",
    "results = regress2(OISST_palmyra.sst.values,NU11_palmyra_short.SrCa.values, _method_type_2=\"reduced major axis\")\n",
    "\n",
    "# we will also create a fake dataset in order to plot the trend line of the dataset\n",
    "x = np.linspace(26,30,100) #this creates an empty array of x between 26-30 of the SST\n",
    "y = (results['slope'])*x+results['intercept'] #this creates a y axis for the trend, based on the slope/intercept of the above results.\n",
    "\n",
    "#this scatter plot of the SST and Sr/Ca\n",
    "plt.scatter(OISST_palmyra.sst.values,NU11_palmyra_short.SrCa.values,c= '#94c2e0')\n",
    "#this would plot the trend line we just made\n",
    "plt.plot(x, y, '#143c64', label='y=2x+1')\n",
    "\n",
    "\n",
    "plt.xlabel('OISST (°C)') # set the x-label\n",
    "plt.ylabel('Sr/Ca') # set the y-label\n",
    "\n",
    "plt.show()\n",
    "\n",
    "# we are printing all the values of the slope and intercept etc. \n",
    "print ('bimonthly ERSST and MAU1 WLS')\n",
    "print ('---------------------------')\n",
    "\n",
    "print (\"The slope between ERSST and SrCa \" + str(results['slope']))\n",
    "print (\"The slope error between ERSST and SrCa \" + str(results['std_slope']))\n",
    "print (\"The intercept between ERSST and SrCa \" + str(results['intercept']))\n",
    "print (\"The intercept error between ERSST and SrCa \" + str(results['std_intercept']))\n"
   ]
  },
  {
   "cell_type": "markdown",
   "id": "5c59b150",
   "metadata": {},
   "source": [
    "# Q2. What do these values mean?\n",
    "\n",
    "Have a go at thinking about what these values mean? You can write this in the box below..\n",
    "\n",
    "- some hints, what does the correlation mean? what does the slope mean etc. \n",
    "- what is the relationship between SST and Sr/Ca in the coral at Palmyra\n",
    "\n"
   ]
  },
  {
   "cell_type": "markdown",
   "id": "0e0d5dd0",
   "metadata": {},
   "source": [
    "-- You can write any notes here!"
   ]
  },
  {
   "cell_type": "markdown",
   "id": "95641179",
   "metadata": {},
   "source": [
    "# ------------------------------------------------------------------------------------------"
   ]
  },
  {
   "cell_type": "markdown",
   "id": "5110d166",
   "metadata": {},
   "source": [
    "# Section 2. Okay what makes up the values in the time series?\n",
    "## Climate time series are made up generally of the seasonal data, and a trend component. \n",
    "\n",
    "We know that Sr/Ca is related to SST and from this we can split the time series up into a component which is the trend, and a second which is the seasonality. The two additions of these componenets (seasonality and trend) is called additive seasonality. \n",
    "\n",
    "We can pull these out and say what component is related to each it allows us to do a number of things; \n",
    "\n",
    "- look at what sort of trend is in our data, i.e. how much the temperature has increased?\n",
    "- look at what component of the data is related to the seasonality"
   ]
  },
  {
   "cell_type": "markdown",
   "id": "14db807f",
   "metadata": {},
   "source": [
    "### First off we are going to convert our Sr/Ca into SST, because what we care about is the change in SST. The best way to do this is to first center the Sr/Ca data around 0 and then scale to SST. \n",
    "\n",
    "- this is because it is not the best practice to convert directly to SST.\n",
    "\n",
    "- to do this we remove the mean, effectively calculating anomalies relative to the climatology"
   ]
  },
  {
   "cell_type": "code",
   "execution_count": null,
   "id": "bfd578a2",
   "metadata": {},
   "outputs": [],
   "source": [
    "# First off we have to calculate the climatology of the NU11. Because our xarray dataset has the datetime we can use \n",
    "# this to calculating the climatology (climatology is the average of each month)\n",
    "\n",
    "# this is a groupby function, grouping by the month, and then averaging across this month.\n",
    "climatology_NU11 = NU11_palmyra_xr.groupby('Datetime.month').mean('Datetime') \n",
    "\n",
    "\n",
    "# we can use this groupby, and then remove climatology we just made above!\n",
    "NU11_palmyra_xr['centered_NU11'] = NU11_palmyra_xr.SrCa.groupby('Datetime.month') - climatology_NU11.SrCa\n",
    "\n",
    "#and print this\n",
    "NU11_palmyra_xr\n",
    "\n"
   ]
  },
  {
   "cell_type": "markdown",
   "id": "0b8c843c",
   "metadata": {},
   "source": [
    "And we want to print this out to just see what it looks like."
   ]
  },
  {
   "cell_type": "code",
   "execution_count": null,
   "id": "debfaf54",
   "metadata": {},
   "outputs": [],
   "source": [
    "fig = plt.figure(figsize=(40, 3)) # this creates a figure of the size that we want to look at\n",
    "\n",
    "ax = fig.add_subplot(1, 2, 1)\n",
    "\n",
    "#Here we plot the Datetime and the centered NU11\n",
    "ax.plot(NU11_palmyra_xr.Datetime, NU11_palmyra_xr.centered_NU11, color = '#ED7014') \n",
    "\n",
    "plt.gca().invert_yaxis() # this flips the y-axis\n",
    "\n",
    "ax.set_ylabel('Sr/Ca (mmol/mol)', color= 'black') \n",
    "ax.set_xlabel('Age (Year)', color= 'black')\n",
    "ax.set_title('NU11 Sr/Ca')\n",
    "\n",
    "plt.show"
   ]
  },
  {
   "cell_type": "markdown",
   "id": "791125ba",
   "metadata": {},
   "source": [
    "#### Now we can use this centered data to convert to SST. Because it is centered we dont have to worry about the intercept. Here we just divde the centered data by the slope, which is -0.096."
   ]
  },
  {
   "cell_type": "code",
   "execution_count": null,
   "id": "83966d2c",
   "metadata": {},
   "outputs": [],
   "source": [
    "# This creates our SrCa_SST data\n",
    "SST_derived = (NU11_palmyra_xr.centered_NU11)/-0.096\n",
    "\n",
    "NU11_palmyra_xr['SrCa_SST'] = SST_derived # this then adds this new SST derived as a variable in the xarray\n",
    "\n",
    "NU11_palmyra_xr\n"
   ]
  },
  {
   "cell_type": "markdown",
   "id": "dfb08a0d",
   "metadata": {},
   "source": [
    "#### Now we can plot this again! "
   ]
  },
  {
   "cell_type": "code",
   "execution_count": null,
   "id": "de5a2da6",
   "metadata": {},
   "outputs": [],
   "source": [
    "fig = plt.figure(figsize=(40, 3)) # this creates a figure of the size that we want to look at\n",
    "\n",
    "ax = fig.add_subplot(1, 2, 1)\n",
    "\n",
    "ax.plot(NU11_palmyra_xr.Datetime, NU11_palmyra_xr.SrCa_SST, color = '#8856a7')\n",
    "\n",
    "# In this one we dont have to invert the axis!\n",
    "\n",
    "ax.set_ylabel('SST derived from Sr/Ca (°C)', color= 'black') \n",
    "ax.set_xlabel('Age (Year)', color= 'black')\n",
    "ax.set_title('NU11 SST from Sr/Ca')\n",
    "\n",
    "plt.show"
   ]
  },
  {
   "cell_type": "markdown",
   "id": "15c11349",
   "metadata": {},
   "source": [
    "\n",
    "We could do this manually, however this would take a while but basically we can split our data into the following; \n",
    "\n",
    "            Y[t] = T[t] + S[t] + e[t]\n",
    "\n",
    "    - Y[t]: Our time-series function\n",
    "    - T[t]: Trend (general tendency to move up or down)\n",
    "    - S[t]: Seasonality (cyclic pattern occurring at regular intervals)\n",
    "    - e[t]: Residual (random noise in the data that isn’t accounted for in the trend or seasonality\n",
    "\n",
    "There is a handing function ins the statsmodels package that we downloaded earlier which will help us look at the data. It requires data in a pandas format (which is what we have above), and it to be linked to a datetime object (which we just checked)."
   ]
  },
  {
   "cell_type": "code",
   "execution_count": null,
   "id": "a3bda14c",
   "metadata": {},
   "outputs": [],
   "source": [
    "#the below does it for us! We input into the seasonal_decompose(data, model = \"additive\", period = 'the required')\n",
    "decomposition= seasonal_decompose(NU11_palmyra_xr.SrCa_SST.values, model=\"additive\", period =12)\n",
    "\n",
    "observed = decomposition.observed\n",
    "trend = decomposition.trend\n",
    "seasonal = decomposition.seasonal\n",
    "residual = decomposition.resid\n",
    "\n",
    "\n",
    "fig, axes = plt.subplots(4, 1, sharex=True,dpi=100)\n",
    "\n",
    "axes[0].plot(observed, color='#8856a7')\n",
    "axes[0].set_ylabel('Observed')\n",
    "axes[1].plot(trend, color='#8856a7')\n",
    "axes[1].set_ylabel('Trend')\n",
    "axes[2].plot(seasonal, color = '#8856a7')\n",
    "axes[2].set_ylabel('Seasonal')\n",
    "axes[3].plot(residual, color='#8856a7')\n",
    "axes[3].set_ylabel('Residual')\n"
   ]
  },
  {
   "cell_type": "markdown",
   "id": "d567eae6",
   "metadata": {},
   "source": [
    "### Lets plot that trend again so we can see whats happening!"
   ]
  },
  {
   "cell_type": "code",
   "execution_count": null,
   "id": "acbb7e20",
   "metadata": {},
   "outputs": [],
   "source": [
    "fig = plt.figure(figsize=(20, 3)) # this creates a figure of the size that we want to look at\n",
    "\n",
    "\n",
    "ax = fig.add_subplot(1, 2, 1)\n",
    "\n",
    "ax.plot(NU11_palmyra_xr.Datetime, trend, color = '#8856a7') # this plots the date on the x-axis and\n",
    "# Sr/Ca on the y - axis\n",
    "\n",
    "# plt.gca().invert_yaxis()\n",
    "\n",
    "ax.set_ylabel('Trend in SST (°C)', color= 'black') \n",
    "ax.set_xlabel('Age (Year)', color= 'black')\n",
    "ax.set_title('Trends in SST from Sr/Ca')\n",
    "\n",
    "plt.show"
   ]
  },
  {
   "cell_type": "markdown",
   "id": "1b7cfca5",
   "metadata": {},
   "source": [
    "### Q3. What does a trend like this mean?\n",
    "\n",
    "- is SST increasing or decreasing since the start of the coral record?\n",
    "\n",
    "Write it in the box below."
   ]
  },
  {
   "cell_type": "markdown",
   "id": "98e51b5c",
   "metadata": {},
   "source": [
    "you can write here ---- "
   ]
  },
  {
   "cell_type": "markdown",
   "id": "90ec55e7",
   "metadata": {},
   "source": [
    "# ------------------------------------------------------------------------------------------"
   ]
  },
  {
   "cell_type": "markdown",
   "id": "e94a7c04",
   "metadata": {},
   "source": [
    "# Section 3. So now we know that the Sr/Ca relates well to SST; \n",
    "\n",
    "- we can explore how well the SST (the Sr/Ca from the Palmyra location) relates to ENSO, so that this coral can then be used to reconstruct ENSO like is explained in the paper. \n",
    "\n",
    "To do this we need to look at the interannual variability of SST (Sr/Ca). ENSO is a climate phenomena which operates on interannual timescales (2-7yr), and therefore the best way to compare the ENSO indices (NINO3.4, SOI etc.) to SST at a location is to extract the interannual variability. \n",
    "\n",
    "To do this we can use something called a bandpass filter. A bandpass filter is basically used to filter a particular range of frequencies (for us the frequencies between 2-7 years), there are lots of different filters that you can use for this  but today we are going to use a butterworth filter. \n",
    "\n",
    "    - read more about high, low and bandpass filters here;\n",
    "        - https://www.rfpage.com/low-pass-high-pass-and-band-pass-filters-simple-explanation/\n",
    "        \n",
    "#### What is cool is that the pyleoclim package makes this filtering process really easy! \n"
   ]
  },
  {
   "cell_type": "markdown",
   "id": "df4b2a6c",
   "metadata": {},
   "source": [
    "### First we have to make a pyleo series of the anomalies that we calculated earlier in the xarray dataset\n",
    "\n",
    "- we want to use the anomalies because we are looking at the changes in Sr/Ca related to the ENSO signal\n",
    "\n",
    "- we want to make a pyleo series because we will correlation the different datasets, and we want to do some filtering.\n",
    "\n"
   ]
  },
  {
   "cell_type": "code",
   "execution_count": null,
   "id": "a8636d5c",
   "metadata": {},
   "outputs": [],
   "source": [
    "NU11_palmyra_xr "
   ]
  },
  {
   "cell_type": "code",
   "execution_count": null,
   "id": "f1f8c986",
   "metadata": {},
   "outputs": [],
   "source": [
    "#make the pyleo series of the anomalies\n",
    "NU11_palmyra_anom_py=pyleo.Series(time=NU11_palmyra_xr['Decimal_Date'],value=NU11_palmyra_xr['SrCa_SST'],time_name='Years CE',value_name='d18O')\n",
    "\n",
    "\n"
   ]
  },
  {
   "cell_type": "markdown",
   "id": "212d6619",
   "metadata": {},
   "source": [
    "#### For some reason the date is not evenly spaced, and in order to filter the datasets we need this to be evenly spaced\n"
   ]
  },
  {
   "cell_type": "code",
   "execution_count": null,
   "id": "8b55178e",
   "metadata": {
    "scrolled": true
   },
   "outputs": [],
   "source": [
    "\n",
    "# we can use the bin function in pyleoseries' and we set the bin_size to a month (which is 0.083333333) and starts at the start \n",
    "NU11_palmyra_bin = NU11_palmyra_anom_py.bin(bin_size=0.083333333, start = 1886.083333333)\n",
    "NU11_palmyra_bin.__dict__ # using the .__dict__ we can see what we have done"
   ]
  },
  {
   "cell_type": "markdown",
   "id": "53df31bd",
   "metadata": {},
   "source": [
    "### Now we want to filter the datasets\n",
    "\n",
    "- we filter these datasets because we want to reveal signals in the coral dataset which are related to the ENSO signal. As said before we are using a butterworth filter betwen 2 and 7 years. "
   ]
  },
  {
   "cell_type": "code",
   "execution_count": null,
   "id": "7f784d06",
   "metadata": {
    "scrolled": true
   },
   "outputs": [],
   "source": [
    "NU11_palmyra_filter_but = NU11_palmyra_bin.filter(method='butterworth',cutoff_scale=[2,7])\n",
    "NU11_palmyra_filter_but.__dict__"
   ]
  },
  {
   "cell_type": "code",
   "execution_count": null,
   "id": "27a7a02c",
   "metadata": {},
   "outputs": [],
   "source": [
    "# now we can plot what that looks like! \n",
    "\n",
    "fig, (ax1) = plt.subplots(1, figsize=(10, 4), dpi = 80, sharex=True)\n",
    "\n",
    "ax1.plot(NU11_palmyra_filter_but.time,NU11_palmyra_filter_but.value, color = '#8856a7')\n",
    "\n",
    "ax1.set_xlabel('Age (Year)', color= 'black')\n",
    "\n",
    "ax1.set_title('Band-pass Butterworth filter 2-7 year Coral')\n"
   ]
  },
  {
   "cell_type": "markdown",
   "id": "257775f8",
   "metadata": {},
   "source": [
    "## Now we import the Nino3.4 dataset. \n",
    "\n",
    "- This is in the same folder so we can just import the netcdf4 file as an xarray. \n",
    "- This was downloaded from the Climate explorer website"
   ]
  },
  {
   "cell_type": "code",
   "execution_count": null,
   "id": "290bacaf",
   "metadata": {},
   "outputs": [],
   "source": [
    "Nino3_4 = xr.open_dataset('Nino34.nc') # this is how we open a netcdf4 file into an xarray dataset \n",
    "\n",
    "#we can shift this into a pyleo series again, you should know what these are now! \n",
    "Nino3_4_py=pyleo.Series(time=Nino3_4['Date'],value=Nino3_4['Nino34r'],time_name='Years CE',value_name='d18O')\n",
    "\n",
    "Nino3_4 # printing so you can look at it! "
   ]
  },
  {
   "cell_type": "code",
   "execution_count": null,
   "id": "e729c058",
   "metadata": {},
   "outputs": [],
   "source": [
    "fig = plt.figure(figsize=(40, 3)) # this creates a figure of the size that we want to look at\n",
    "\n",
    "ax = fig.add_subplot(1, 2, 1)\n",
    "\n",
    "ax.plot(Nino3_4_py.time, Nino3_4_py.value, color = '#62BD69') # this plots the date on the x-axis and Nino3.4 on the y\n",
    "\n",
    "\n",
    "ax.set_ylabel('Nino3.4', color= 'black') \n",
    "ax.set_xlabel('Age (Year)', color= 'black')\n",
    "ax.set_title('Nino3.4 index')\n",
    "\n",
    "plt.show"
   ]
  },
  {
   "cell_type": "code",
   "execution_count": null,
   "id": "c73562c2",
   "metadata": {},
   "outputs": [],
   "source": [
    "# and now we filter this so we can compare if the signals are the same!\n",
    "Nino3_4_filter_but = Nino3_4_py.filter(method='butterworth',cutoff_scale=[2,7])\n",
    "Nino3_4_filter_but.__dict__"
   ]
  },
  {
   "cell_type": "code",
   "execution_count": null,
   "id": "e0ca0705",
   "metadata": {},
   "outputs": [],
   "source": [
    "# and we can plot this filtered dataset\n",
    "fig, (ax1) = plt.subplots(1, figsize=(10, 4), dpi = 80, sharex=True)\n",
    "\n",
    "ax1.plot(Nino3_4_filter_but.time,Nino3_4_filter_but.value,'#62BD69', label = 'Nino3.4 Filter')\n",
    "\n",
    "ax1.legend()\n",
    "ax1.set_title('Nino3.4 Band-pass filter, 2-7 year')\n"
   ]
  },
  {
   "cell_type": "code",
   "execution_count": null,
   "id": "14e6fb9f",
   "metadata": {},
   "outputs": [],
   "source": [
    "# And finally we can plot the two datasets together. As they are both in anomalies we can plot on the same axis\n",
    "\n",
    "fig, (ax1) = plt.subplots(1, figsize=(10, 4), dpi = 80, sharex=True)\n",
    "\n",
    "ax1.plot(Nino3_4_filter_but.time,Nino3_4_filter_but.value,'#62BD69', label = 'Nino3.4 Filter')\n",
    "\n",
    "ax1.plot(NU11_palmyra_filter_but.time,NU11_palmyra_filter_but.value, color = '#8856a7',label='NU11 bandpass filter')\n",
    "\n",
    "ax1.legend()\n",
    "ax1.set_title('NU11 & Nino3.4 Band-pass filter, 2-7 year')\n"
   ]
  },
  {
   "cell_type": "markdown",
   "id": "ac6772f3",
   "metadata": {},
   "source": [
    "#### Finally these look pretty similar, how well related are they?\n"
   ]
  },
  {
   "cell_type": "code",
   "execution_count": null,
   "id": "4940d2ec",
   "metadata": {},
   "outputs": [],
   "source": [
    "# You can use the same correlation function that we saw earlier!\n",
    "Nino_corr =NU11_palmyra_filter_but.correlation(Nino3_4_filter_but, settings={'method':'ttest'})\n",
    "\n",
    "print ('---------------------------------------------')\n",
    "print ('The corre between the Palmyra coral Sr/Ca anomalies and Nino3.4')\n",
    "print (str(Nino_corr))"
   ]
  },
  {
   "cell_type": "markdown",
   "id": "3a1c637b",
   "metadata": {},
   "source": [
    "## Q4. What does a relationship like this actually mean?\n",
    "\n",
    "- Think about the strong relationship between Nino3.4 and the Coral Sr/Ca filterd\n",
    "- What might that mean for this location and its relationship to ENSO"
   ]
  },
  {
   "cell_type": "markdown",
   "id": "2854bbc5",
   "metadata": {},
   "source": [
    "You can write your answer here ---- "
   ]
  },
  {
   "cell_type": "code",
   "execution_count": null,
   "id": "a5ab49dd",
   "metadata": {},
   "outputs": [],
   "source": []
  }
 ],
 "metadata": {
  "kernelspec": {
   "display_name": "Python 3 (ipykernel)",
   "language": "python",
   "name": "python3"
  },
  "language_info": {
   "codemirror_mode": {
    "name": "ipython",
    "version": 3
   },
   "file_extension": ".py",
   "mimetype": "text/x-python",
   "name": "python",
   "nbconvert_exporter": "python",
   "pygments_lexer": "ipython3",
   "version": "3.10.10"
  }
 },
 "nbformat": 4,
 "nbformat_minor": 5
}
